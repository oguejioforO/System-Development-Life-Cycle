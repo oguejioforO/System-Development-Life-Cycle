{
 "cells": [
  {
   "cell_type": "markdown",
   "id": "888917f9",
   "metadata": {},
   "source": [
    "# System Development Life Cycle"
   ]
  },
  {
   "attachments": {},
   "cell_type": "markdown",
   "id": "ca7929f2",
   "metadata": {},
   "source": [
    "## Example 1:  Develop a Forex Converter Chatbot (FCC) which will convert inputted Dollar Value to Naira. \n",
    "\n",
    "Phase 1(Problem Statement): The proposed FCC will accept dollar value as integer and further convert to naira using the most current exchange rate\n",
    "\n",
    "Phase 2:  Algorithm or Design:\n",
    "\n",
    "Step 1:\tStart\n",
    "\n",
    "Step 2: Declare Variables: amount, naira_equivalent\n",
    "\t\tWhere amount represents the inputted dollar value and\n",
    "\t\tnaira_equivalent represents the converted value\n",
    "\n",
    "Step 3:\tCompute naira_equivalent = 1587*A;\n",
    "        \n",
    "Step 4: Print naira_equivalent as Output,\n",
    "\t\t\n",
    "Step 5:\tStop\n",
    "\n",
    "\n"
   ]
  },
  {
   "cell_type": "code",
   "execution_count": 25,
   "id": "bbfb374f",
   "metadata": {},
   "outputs": [
    {
     "name": "stdout",
     "output_type": "stream",
     "text": [
      "I'm Esther a foreign exchange agent\n",
      "\n",
      "Hi, Welcome your name please? \n",
      "Aisha\n",
      "Hello Aisha\n",
      "How many dollars do you want to exchange? \n",
      "500\n",
      " Dear Aisha This is the Naira Equivalent of the dollar you exchanged: 793500 Naira \n",
      "\n",
      "Thanks for using the App\n"
     ]
    }
   ],
   "source": [
    "# Phase 3:  Source Codes using Python:\n",
    "\n",
    "print(\"I'm Esther a foreign exchange agent\\n\")\n",
    "\n",
    "name = str(input(\"Hi, Welcome your name please? \\n\"))\n",
    "\n",
    "print(\"Hello\", name)\n",
    "\n",
    "amount = int(input(\"How many dollars do you want to exchange? \\n\"))\n",
    "naira_equivalent = amount * 1587;\n",
    "\n",
    "print(f\" Dear {name} This is the Naira Equivalent of the dollar you exchanged: {naira_equivalent} Naira \\n\")\n",
    "\n",
    "print(\"Thanks for using the App\")\n",
    "\n"
   ]
  },
  {
   "cell_type": "markdown",
   "id": "f5d23c3f",
   "metadata": {},
   "source": [
    "###  Example 2:  Develop a Forex Converter Chatbot (FCC) which will convert inputted Dollar, Pounds and Euro Value to Naira. \n",
    "\n",
    "Phase 1(Problem Statement): The proposed FCC will accept dollar, Pounds, Euro values as integer and further convert to naira using the most current exchange rate\n",
    "\n",
    "Phase 2:  Algorithm or Design:\n",
    "\n",
    "Step 1:\tStart\n",
    "\n",
    "Step 2: Declare Variables: \n",
    "\t\tname → Stores the user's name (input()).\n",
    "\n",
    "        DOLLAR_RATE → Exchange rate for USD to Naira (constant).\n",
    "\n",
    "        POUND_RATE → Exchange rate for GBP to Naira (constant).\n",
    "\n",
    "        EURO_RATE → Exchange rate for EUR to Naira (constant).\n",
    "\n",
    "        choice → Stores the user's selected currency (1, 2, or 3).\n",
    "\n",
    "        currency → Dynamically stores the currency name/symbol based on choice.\n",
    "\n",
    "        amount → Stores the amount of money the user wants to exchange.\n",
    "\n",
    "        naira_equivalent → Stores the converted amount in Naira.\n",
    "\n",
    "Step 3:\tCompute naira_equivalent = 1587*A;\n",
    "        \n",
    "Step 4: Print naira_equivalent as Output,\n",
    "\t\t\n",
    "Step 5:\tStop\n",
    "\n"
   ]
  },
  {
   "cell_type": "code",
   "execution_count": 26,
   "id": "04c4c92a",
   "metadata": {
    "scrolled": true
   },
   "outputs": [
    {
     "name": "stdout",
     "output_type": "stream",
     "text": [
      "I'm Esther, a foreign exchange agent\n",
      "\n",
      "Hi, welcome! What's your name please? \n",
      "Olu\n",
      "Hello Olu\n",
      "Which currency do you want to exchange?\n",
      "1. Dollars ($)\n",
      "2. Pounds (£)\n",
      "3. Euros (€)\n",
      "Enter the currency (1 or 2 or 3): 3\n",
      "How many Euros (€) do you want to exchange? \n",
      "5300\n",
      "Dear, Olu this is the Naira Equivalent of the 5300.0 Euros (€) you exchanged: ₦9,010,000.00 Naira \n",
      "\n",
      "\n",
      "Thanks for using the App!\n"
     ]
    }
   ],
   "source": [
    "# The code below exchange dollars, Pounds and Euros to Naira.\n",
    "print(\"I'm Esther, a foreign exchange agent\\n\")\n",
    "\n",
    "name = input(\"Hi, welcome! What's your name please? \\n\")\n",
    "print(\"Hello\", name)\n",
    "\n",
    "# Exchange rates (as of example; update with real rates)\n",
    "DOLLAR_RATE = 1587  \n",
    "POUND_RATE = 2000   \n",
    "EURO_RATE = 1700     \n",
    "\n",
    "# Ask user for currency choice\n",
    "print(\"Which currency do you want to exchange?\")\n",
    "print(\"1. Dollars ($)\")\n",
    "print(\"2. Pounds (£)\")\n",
    "print(\"3. Euros (€)\")\n",
    "\n",
    "choice = int(input(\"Enter the currency (1 or 2 or 3): \"))\n",
    "\n",
    "if choice == 1:\n",
    "    currency = \"Dollars ($)\"\n",
    "    rate = DOLLAR_RATE\n",
    "elif choice == 2:\n",
    "    currency = \"Pounds (£)\"\n",
    "    rate = POUND_RATE\n",
    "elif choice == 3:\n",
    "    currency = \"Euros (€)\"\n",
    "    rate = EURO_RATE\n",
    "else:\n",
    "    print(\"Invalid choice. Please try again.\")\n",
    "    exit()\n",
    "\n",
    "amount = float(input(f\"How many {currency} do you want to exchange? \\n\"))\n",
    "naira_equivalent = amount * rate\n",
    "\n",
    " \n",
    "print(f\"Dear, {name} this is the Naira Equivalent of the {amount} {currency} you exchanged: ₦{naira_equivalent:,.2f} Naira \\n\")\n",
    "print(\"\\nThanks for using the App!\")"
   ]
  },
  {
   "attachments": {},
   "cell_type": "markdown",
   "id": "01b4f3b1",
   "metadata": {},
   "source": [
    "### Example 3: The MD of I-phil purchased a new property for corporate operations. The property is worth $4, 750.00 with 14% VAT inclusive. Develop an analytic system that can determine the actual cost of the property before the added VAT.  \n",
    "\n",
    "Phase 1(Problem Statement): To determine the actual cost of the property before tax is added\n",
    "\n",
    "Phase 2: Algorithm or Design:\n",
    "\n",
    "Step 1:\tStart\n",
    "\n",
    "Step 2: Declare Variables: (total_cost, vat_rate, actual_amount, vat_amount) \n",
    "        Where total_cost represents the property worth with vax added, vat_rate is the vat in percentage included,actual_amount         the property amount witout the vat and vat_amount is number of vat) \n",
    "\n",
    "Step 3:\tCompute actual_amount = total_cost/ (1 + (vat_rate/100))\n",
    "        vat_amount = total_cost - actual_amount\n",
    "        \n",
    "Step 4: Print actual_amount and vat_amount as Output,\n",
    "\t\t\n",
    "Step 5:\tStop\n"
   ]
  },
  {
   "cell_type": "code",
   "execution_count": 3,
   "id": "421416e3",
   "metadata": {},
   "outputs": [
    {
     "name": "stdout",
     "output_type": "stream",
     "text": [
      "Actual Amount (Pre-VAT): $4166.67\n",
      "VAT Amount: $583.33\n"
     ]
    }
   ],
   "source": [
    "total_cost = 4750.00\n",
    "vat_rate = 14  \n",
    "\n",
    "actual_amount = total_cost/ (1 + (vat_rate/100))\n",
    "vat_amount = total_cost - actual_amount\n",
    "# Output\n",
    "print(f\"Actual Amount (Pre-VAT): ${actual_amount:.2f}\")\n",
    "print(f\"VAT Amount: ${vat_amount:.2f}\")"
   ]
  },
  {
   "attachments": {},
   "cell_type": "markdown",
   "id": "dc005937",
   "metadata": {},
   "source": [
    "### Example 4: The Nigerian Association of Computer Science Students (NACOSS) has scheduled their National Conference in Abuja FCT for next month. Secondly, each NACOSS member is meant to pay $20, 000.00 as the conference registration fee. \n",
    "determine the number of weeks it will take her to save money for the NACOSS conference.\n",
    "\n",
    "Alice as a level 100 computer science student saves $25.00 a week from her part-time supply job. Hence, develop an analytical system that can determine the number of weeks it will take her to save money for the NACOSS conference.\n",
    "\n",
    "SDLC:\n",
    "phase 1 (Problem Statement): To determine how many weeks Alice needs to save to afford the NACOSS conference registration fee\n",
    "\n",
    "phase 2(Algorithm or Design):\n",
    " - step 1 : start\n",
    " - step 2: Declare Variables: name, Total fee ($20,000.00), weekly savings ($25.00/week),Number of weeks  \n",
    " - step 3: compute:weeks_remaining = reg_fee/weekly_saving\n",
    " - step 4: print weeks_remaining as output\n",
    " - step 5: stop\n",
    "       \n",
    "  "
   ]
  },
  {
   "cell_type": "code",
   "execution_count": 15,
   "id": "5b02c79f",
   "metadata": {},
   "outputs": [
    {
     "name": "stdout",
     "output_type": "stream",
     "text": [
      "Hi welcome! to NACOSS National Conference Registration Portalo\n",
      "\n",
      "your name please? alice\n",
      " Hello alice, The registration fee for the conference is $20,000 \n",
      "\n",
      "How much do you have? \n",
      "25\n",
      "alice you have 800 weeks to save up $20,000 for registration \n",
      "\n"
     ]
    }
   ],
   "source": [
    "print(\"Hi welcome! to NACOSS National Conference Registration Portal\\n\")\n",
    "\n",
    "name = str(input(\"your name please? \"))\n",
    "\n",
    "\n",
    "print(f\"Hello {name}, The registration fee for the conference is $20,000 \\n\")\n",
    "\n",
    "reg_fee = 20000\n",
    "weekly_saving = 25\n",
    "\n",
    "weeks_remaining = int(reg_fee/weekly_saving)\n",
    "print((f\"{name} you have {weeks_remaining} weeks to save up $20,000 for registration \\n\"))\n",
    "\n"
   ]
  },
  {
   "attachments": {},
   "cell_type": "markdown",
   "id": "e808e3e9",
   "metadata": {},
   "source": [
    "### Example 5. Tim and Mary Jones budget 27% of their annual income of $85,300 for food, 38% for housing including operating expenses and furnishings, 9% for transportation, 7% for clothing, 12% for savings, and the remainder for emergencies and miscellaneous. Develop an analytical system that can determine how much Tim and Mary budget monthly for food?\n"
   ]
  },
  {
   "cell_type": "markdown",
   "id": "59ffd238",
   "metadata": {},
   "source": [
    "phase 1: Develop a system to calculate and display Tim and Mary Jones' monthly food budget based on their annual income and predefined budget percentages.\n",
    "\n",
    "phase 2: \n",
    "- step 1:start\n",
    "- step 2: Declare variables: annual_income ($85,300),food_percentage,annual_food_budget,monthly_food_budget \n",
    "- step 3: compute: annual_food_budget = annual_income * food_percentage\n",
    "          monthly_food_budget = annual_food_budget / 12\n",
    "- step 4: print Monthly food budget as output\n",
    "- step 5: stop\n"
   ]
  },
  {
   "cell_type": "code",
   "execution_count": 17,
   "id": "78b3abee",
   "metadata": {},
   "outputs": [
    {
     "name": "stdout",
     "output_type": "stream",
     "text": [
      "Annual Income: $85,300.00\n",
      "Percentage Budgeted for Food: 27.0%\n",
      "\n",
      "Annual Food Budget: $23,031.00\n",
      "Monthly Food Budget: $1,919.25\n"
     ]
    }
   ],
   "source": [
    "annual_income = 85300  \n",
    "food_percentage = 0.27 \n",
    "\n",
    "# Calculate annual food budget\n",
    "annual_food_budget = annual_income * food_percentage\n",
    "\n",
    "# Calculate monthly food budget\n",
    "monthly_food_budget = annual_food_budget / 12\n",
    "\n",
    "# Display results\n",
    "print(f\"Annual Income: ${annual_income:,.2f}\")\n",
    "print(f\"Percentage Budgeted for Food: {food_percentage * 100}%\")\n",
    "print(f\"\\nAnnual Food Budget: ${annual_food_budget:,.2f}\")\n",
    "print(f\"Monthly Food Budget: ${monthly_food_budget:,.2f}\")"
   ]
  },
  {
   "cell_type": "markdown",
   "id": "80db0226",
   "metadata": {},
   "source": [
    "### Example 6: Alice and Karen were employed by Bristol City High School on an Annual Gross pay of £5, 160 and £6, 250 respectively. If the school taxes them monthly on social security and health insurance at rates of 12% and 7% respectively, develop an analytical system that can compute their monthly take home pay.\n"
   ]
  },
  {
   "cell_type": "markdown",
   "id": "e9566a38",
   "metadata": {},
   "source": [
    "analytical system to compute Alice and Karen's monthly take-home pay after social security (12%) and health insurance (7%) deductions:\n",
    "\n",
    "phase 1: An analytical system to compute Alice and Karen's monthly take-home pay after social security (12%) and health insurance (7%) deductions:\n",
    "\n",
    "\n",
    "phase 2: \n",
    "- step 1:start\n",
    "- step 2: Declare variables: name, annual_pay, social_security_rate, health_insurance_rate,monthly_pay,social_security,     health_insurance, total deductions, take_home_pay\n",
    " \n",
    "- step 3: compute: monthly_pay = annual_pay / 12\n",
    "          social_security = monthly_gross * social_security_rate\n",
    "          health_insurance = monthly_gross * health_insurance_rate\n",
    "          total_deductions = social_security + health_insurance\n",
    "          take_home_pay = monthly_gross - total_deductions\n",
    "- step 4: print take_home_pay as output\n",
    "- step 5: stop\n"
   ]
  },
  {
   "cell_type": "code",
   "execution_count": 28,
   "id": "64f186f3",
   "metadata": {},
   "outputs": [
    {
     "name": "stdout",
     "output_type": "stream",
     "text": [
      "Enter employee name: Alice\n",
      "Enter annual gross pay (£): 5160\n",
      "Alice your monthly take home pay after social security and health insurance deduction is £348.3\n"
     ]
    }
   ],
   "source": [
    "name = input(\"Enter employee name: \")\n",
    "annual_pay = float(input(\"Enter annual gross pay (£): \"))\n",
    "\n",
    "# Deduction Rates\n",
    "social_security_rate = 0.12  # 12%\n",
    "health_insurance_rate = 0.07  # 7%\n",
    "\n",
    "monthly_pay = annual_pay / 12\n",
    "social_security = monthly_gross * social_security_rate\n",
    "health_insurance = monthly_gross * health_insurance_rate\n",
    "total_deductions = social_security + health_insurance\n",
    "take_home_pay = monthly_gross - total_deductions\n",
    "\n",
    "print(f\"{name} your monthly take home pay after social security and health insurance deduction is £{take_home_pay}\")"
   ]
  },
  {
   "cell_type": "code",
   "execution_count": null,
   "id": "931e4855",
   "metadata": {},
   "outputs": [],
   "source": []
  }
 ],
 "metadata": {
  "kernelspec": {
   "display_name": "Python 3 (ipykernel)",
   "language": "python",
   "name": "python3"
  },
  "language_info": {
   "codemirror_mode": {
    "name": "ipython",
    "version": 3
   },
   "file_extension": ".py",
   "mimetype": "text/x-python",
   "name": "python",
   "nbconvert_exporter": "python",
   "pygments_lexer": "ipython3",
   "version": "3.11.7"
  }
 },
 "nbformat": 4,
 "nbformat_minor": 5
}
